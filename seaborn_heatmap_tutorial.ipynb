{
  "nbformat": 4,
  "nbformat_minor": 0,
  "metadata": {
    "colab": {
      "name": "seaborn heatmap tutorial.ipynb",
      "provenance": [],
      "collapsed_sections": []
    },
    "kernelspec": {
      "name": "python3",
      "display_name": "Python 3"
    }
  },
  "cells": [
    {
      "cell_type": "code",
      "metadata": {
        "id": "_2zqolVMJQIr",
        "colab_type": "code",
        "colab": {}
      },
      "source": [
        "What is heatmat?\n",
        "A heat map (or heatmap) is a graphical representation of data where the individual values contained in a matrix are represented as colors. \n",
        "It is a bit like looking a data table from above. It is really useful to display a general view of numerical data,not to extract specific data point. \n",
        "It is quite straight forward to make a heat map, as shown on the examples below. However be careful to understand the underlying mechanisms. \n",
        "You will probably need to normalise your matrix, choosea relevant colour palette, use cluster analysis and thus permute the rows and the columns of the matrix to place similar values near each other according to the clustering.\n",
        "https://python-graph-gallery.com/90-heatmaps-with-various-input-format/\n",
        "\n",
        "http://seaborn.pydata.org/generated/seaborn.heatmap.html?highlight=heatmap#seaborn.heatmap"
      ],
      "execution_count": 0,
      "outputs": []
    },
    {
      "cell_type": "code",
      "metadata": {
        "id": "ickeDCQFKOXB",
        "colab_type": "code",
        "colab": {}
      },
      "source": [
        "import pandas as pd\n",
        "import numpy as np\n",
        "import pandas as pd\n",
        "import seaborn as sns\n",
        "import matplotlib.pyplot as plt\n",
        "\n",
        "%matplotlib inline\n"
      ],
      "execution_count": 0,
      "outputs": []
    },
    {
      "cell_type": "code",
      "metadata": {
        "id": "-ZozifTXKR4-",
        "colab_type": "code",
        "colab": {
          "base_uri": "https://localhost:8080/",
          "height": 286
        },
        "outputId": "253ceeef-1f0e-423f-e575-587f6a8156b8"
      },
      "source": [
        "# Plot a heatmap for a numpy array:\n",
        "\n",
        "uniform_data = np.random.rand(10,12)\n",
        "uniform_data = np.arange(1,17).reshape(4,4)\n",
        "sns.heatmap(uniform_data)"
      ],
      "execution_count": 4,
      "outputs": [
        {
          "output_type": "execute_result",
          "data": {
            "text/plain": [
              "<matplotlib.axes._subplots.AxesSubplot at 0x7fe90b621cf8>"
            ]
          },
          "metadata": {
            "tags": []
          },
          "execution_count": 4
        },
        {
          "output_type": "display_data",
          "data": {
            "image/png": "[encoded data removed]",
            "text/plain": [
              "<Figure size 432x288 with 2 Axes>"
            ]
          },
          "metadata": {
            "tags": [],
            "needs_background": "light"
          }
        }
      ]
    },
    {
      "cell_type": "code",
      "metadata": {
        "id": "NWUjCtncKxtk",
        "colab_type": "code",
        "colab": {
          "base_uri": "https://localhost:8080/",
          "height": 336
        },
        "outputId": "07621d2c-3530-4176-e77c-e03bbbafb581"
      },
      "source": [
        "x = np.array([[1,2,3,4],[2,3,4,1],[5,4,2,1],[6,7,8,5]])\n",
        "sns.heatmap(x)\n",
        "x"
      ],
      "execution_count": 5,
      "outputs": [
        {
          "output_type": "execute_result",
          "data": {
            "text/plain": [
              "array([[1, 2, 3, 4],\n",
              "       [2, 3, 4, 1],\n",
              "       [5, 4, 2, 1],\n",
              "       [6, 7, 8, 5]])"
            ]
          },
          "metadata": {
            "tags": []
          },
          "execution_count": 5
        },
        {
          "output_type": "display_data",
          "data": {
            "image/png": "[encoded data removed]",
            "text/plain": [
              "<Figure size 432x288 with 2 Axes>"
            ]
          },
          "metadata": {
            "tags": [],
            "needs_background": "light"
          }
        }
      ]
    },
    {
      "cell_type": "code",
      "metadata": {
        "id": "OzfZCG0sKtqq",
        "colab_type": "code",
        "colab": {}
      },
      "source": [
        "Three main types of input exist to plot heatmap, let’s study them one by one.\n",
        "Wide format (untidy)\n",
        "We call ‘wide format‘ or ‘untidy format‘ a matrix where each row is an individual, and each column represents an observation. \n",
        "In this case, a heatmap consists to make a visual representation of the matrix: each square of the heatmap represents a cell. \n",
        "The color of the cell changes following its value."
      ],
      "execution_count": 0,
      "outputs": []
    },
    {
      "cell_type": "code",
      "metadata": {
        "id": "Fp_Qqe6-LDsa",
        "colab_type": "code",
        "colab": {
          "base_uri": "https://localhost:8080/",
          "height": 265
        },
        "outputId": "6b94a1cb-825e-4ac2-f063-6b61afab2057"
      },
      "source": [
        "df = pd.DataFrame(np.random.random((5,5)), columns=[\"a\",\"b\",\"c\",\"d\",\"e\"])\n",
        "\n",
        "# Default heatmap: just a visualization of this square matrix\n",
        "p1 = sns.heatmap(df)\n"
      ],
      "execution_count": 7,
      "outputs": [
        {
          "output_type": "display_data",
          "data": {
            "image/png": "[encoded data removed]",
            "text/plain": [
              "<Figure size 432x288 with 2 Axes>"
            ]
          },
          "metadata": {
            "tags": [],
            "needs_background": "light"
          }
        }
      ]
    }
  ]
}